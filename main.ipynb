{
  "nbformat": 4,
  "nbformat_minor": 0,
  "metadata": {
    "colab": {
      "name": "maincolab.ipynb",
      "provenance": [],
      "collapsed_sections": []
    },
    "kernelspec": {
      "name": "python3",
      "display_name": "Python 3"
    },
    "language_info": {
      "name": "python"
    }
  },
  "cells": [
    {
      "cell_type": "code",
      "source": [
        "import os\n",
        "from google.colab import drive"
      ],
      "metadata": {
        "id": "fqOEaAo9jxeV"
      },
      "execution_count": 1,
      "outputs": []
    },
    {
      "cell_type": "code",
      "execution_count": 2,
      "metadata": {
        "colab": {
          "base_uri": "https://localhost:8080/"
        },
        "id": "aQkFF4i2jiJW",
        "outputId": "fec98d99-4ece-42b3-9927-a6acd1e2e8b1"
      },
      "outputs": [
        {
          "output_type": "stream",
          "name": "stdout",
          "text": [
            "Mounted at /content/gdrive/\n"
          ]
        }
      ],
      "source": [
        "# mount my Google Drive directory and access the training data located there\n",
        "gdrive_dir = '/content/gdrive/'\n",
        "data_dir = os.path.join(gdrive_dir, \"'My Drive'\",\"'Colab Notebooks'\",\"TransE-PyTorch-Drive\")\n",
        "\n",
        "drive.mount(gdrive_dir, force_remount=False)"
      ]
    },
    {
      "cell_type": "code",
      "source": [
        "!ls $data_dir"
      ],
      "metadata": {
        "colab": {
          "base_uri": "https://localhost:8080/"
        },
        "id": "m5MdvQe6j--Z",
        "outputId": "165971f2-ef41-479c-86f1-9bedf7f971ad"
      },
      "execution_count": 3,
      "outputs": [
        {
          "output_type": "stream",
          "name": "stdout",
          "text": [
            "data.py      images\t      metric.py       README.md\t\tsynth_data\n",
            "fb15k\t     maincolab.ipynb  metric_test.py  requirements.txt\n",
            "fb15k-small  main.py\t      model.py\t      storage.py\n"
          ]
        }
      ]
    },
    {
      "cell_type": "code",
      "source": [
        "print(data_dir)\n",
        "data_dir_contents = data_dir + '/.'"
      ],
      "metadata": {
        "colab": {
          "base_uri": "https://localhost:8080/"
        },
        "id": "-3W_neC4krq7",
        "outputId": "d79e1051-f8c8-4672-e004-a1219b34fa65"
      },
      "execution_count": 4,
      "outputs": [
        {
          "output_type": "stream",
          "name": "stdout",
          "text": [
            "/content/gdrive/'My Drive'/'Colab Notebooks'/TransE-PyTorch-Drive\n"
          ]
        }
      ]
    },
    {
      "cell_type": "code",
      "source": [
        "!cp -r $data_dir_contents ./"
      ],
      "metadata": {
        "id": "tt3wRfofkLyI"
      },
      "execution_count": 5,
      "outputs": []
    },
    {
      "cell_type": "code",
      "source": [
        "# !pip install -r requirements.txt"
      ],
      "metadata": {
        "id": "pJyAoLLkk00N"
      },
      "execution_count": null,
      "outputs": []
    },
    {
      "cell_type": "code",
      "source": [
        "#from absl import app\n",
        "#from absl import flags\n",
        "# import data\n",
        "# import metric\n",
        "# import model as model_definition\n",
        "import os\n",
        "import storage\n",
        "from collections import Counter\n",
        "import numpy as np\n",
        "import torch\n",
        "import torch.optim as optim\n",
        "import torch.nn as nn\n",
        "from torch.utils import data as torch_data\n",
        "from torch.utils import tensorboard\n",
        "from typing import Dict, Tuple"
      ],
      "metadata": {
        "id": "I3oyTmBNlBzF"
      },
      "execution_count": 14,
      "outputs": []
    },
    {
      "cell_type": "code",
      "source": [
        "lr=0.01\n",
        "seed=1234\n",
        "batch_size=128\n",
        "validation_batch_size=64\n",
        "vector_length=50\n",
        "margin=1.0\n",
        "norm=1\n",
        "epochs=10000\n",
        "dataset_path=\"./fb15k\"\n",
        "use_gpu=False\n",
        "validation_freq=10\n",
        "checkpoint_path=\"\"\n",
        "tensorboard_log_dir=\"./runs\""
      ],
      "metadata": {
        "id": "OBmmc5CqlOXi"
      },
      "execution_count": 24,
      "outputs": []
    },
    {
      "cell_type": "code",
      "source": [
        "HITS_AT_1_SCORE = float\n",
        "HITS_AT_3_SCORE = float\n",
        "HITS_AT_10_SCORE = float\n",
        "MRR_SCORE = float\n",
        "METRICS = Tuple[HITS_AT_1_SCORE, HITS_AT_3_SCORE, HITS_AT_10_SCORE, MRR_SCORE]"
      ],
      "metadata": {
        "id": "9s41goJhlHAC"
      },
      "execution_count": 9,
      "outputs": []
    },
    {
      "cell_type": "code",
      "source": [
        "Mapping = Dict[str, int]\n",
        "\n",
        "def create_mappings(dataset_path: str) -> Tuple[Mapping, Mapping]:\n",
        "    \"\"\"Creates separate mappings to indices for entities and relations.\"\"\"\n",
        "    # counters to have entities/relations sorted from most frequent\n",
        "    entity_counter = Counter()\n",
        "    relation_counter = Counter()\n",
        "    with open(dataset_path, \"r\") as f:\n",
        "        for line in f:\n",
        "            # -1 to remove newline sign\n",
        "            head, relation, tail = line[:-1].split(\"\\t\")\n",
        "            entity_counter.update([head, tail])\n",
        "            relation_counter.update([relation])\n",
        "    entity2id = {}\n",
        "    relation2id = {}\n",
        "    for idx, (mid, _) in enumerate(entity_counter.most_common()):\n",
        "        entity2id[mid] = idx\n",
        "    for idx, (relation, _) in enumerate(relation_counter.most_common()):\n",
        "        relation2id[relation] = idx\n",
        "    return entity2id, relation2id\n",
        "\n",
        "\n",
        "class FB15KDataset(torch_data.Dataset):\n",
        "    \"\"\"Dataset implementation for handling FB15K and FB15K-237.\"\"\"\n",
        "\n",
        "    def __init__(self, data_path: str, entity2id: Mapping, relation2id: Mapping):\n",
        "        self.entity2id = entity2id\n",
        "        self.relation2id = relation2id\n",
        "        with open(data_path, \"r\") as f:\n",
        "            # data in tuples (head, relation, tail)\n",
        "            self.data = [line[:-1].split(\"\\t\") for line in f]\n",
        "\n",
        "    def __len__(self):\n",
        "        \"\"\"Denotes the total number of samples.\"\"\"\n",
        "        return len(self.data)\n",
        "\n",
        "    def __getitem__(self, index):\n",
        "        \"\"\"Returns (head id, relation id, tail id).\"\"\"\n",
        "        head, relation, tail = self.data[index]\n",
        "        head_id = self._to_idx(head, self.entity2id)\n",
        "        relation_id = self._to_idx(relation, self.relation2id)\n",
        "        tail_id = self._to_idx(tail, self.entity2id)\n",
        "        return head_id, relation_id, tail_id\n",
        "\n",
        "    @staticmethod\n",
        "    def _to_idx(key: str, mapping: Mapping) -> int:\n",
        "        try:\n",
        "            return mapping[key]\n",
        "        except KeyError:\n",
        "            return len(mapping)"
      ],
      "metadata": {
        "id": "4qnbSZFtoZmp"
      },
      "execution_count": 12,
      "outputs": []
    },
    {
      "cell_type": "code",
      "source": [
        "def hit_at_k(predictions: torch.Tensor, ground_truth_idx: torch.Tensor, device: torch.device, k: int = 10) -> int:\n",
        "    \"\"\"Calculates number of hits@k.\n",
        "    :param predictions: BxN tensor of prediction values where B is batch size and N number of classes. Predictions\n",
        "    must be sorted in class ids order\n",
        "    :param ground_truth_idx: Bx1 tensor with index of ground truth class\n",
        "    :param device: device on which calculations are taking place\n",
        "    :param k: number of top K results to be considered as hits\n",
        "    :return: Hits@K score\n",
        "    \"\"\"\n",
        "    assert predictions.size(0) == ground_truth_idx.size(0)\n",
        "\n",
        "    zero_tensor = torch.tensor([0], device=device)\n",
        "    one_tensor = torch.tensor([1], device=device)\n",
        "    _, indices = predictions.topk(k=k, largest=False)\n",
        "    return torch.where(indices == ground_truth_idx, one_tensor, zero_tensor).sum().item()\n",
        "\n",
        "\n",
        "def data_mrr(predictions: torch.Tensor, ground_truth_idx: torch.Tensor) -> float:\n",
        "    \"\"\"Calculates mean reciprocal rank (MRR) for given predictions and ground truth values.\n",
        "    :param predictions: BxN tensor of prediction values where B is batch size and N number of classes. Predictions\n",
        "    must be sorted in class ids order\n",
        "    :param ground_truth_idx: Bx1 tensor with index of ground truth class\n",
        "    :return: Mean reciprocal rank score\n",
        "    \"\"\"\n",
        "    assert predictions.size(0) == ground_truth_idx.size(0)\n",
        "\n",
        "    indices = predictions.argsort()\n",
        "    return (1.0 / (indices == ground_truth_idx).nonzero()[:, 1].float().add(1.0)).sum().item()"
      ],
      "metadata": {
        "id": "5DUdTjuno3vx"
      },
      "execution_count": 32,
      "outputs": []
    },
    {
      "cell_type": "code",
      "source": [
        "class TransE(nn.Module):\n",
        "\n",
        "    def __init__(self, entity_count, relation_count, device, norm=1, dim=100, margin=1.0):\n",
        "        super(TransE, self).__init__()\n",
        "        self.entity_count = entity_count\n",
        "        self.relation_count = relation_count\n",
        "        self.device = device\n",
        "        self.norm = norm\n",
        "        self.dim = dim\n",
        "        self.entities_emb = self._init_enitity_emb()\n",
        "        self.relations_emb = self._init_relation_emb()\n",
        "        self.criterion = nn.MarginRankingLoss(margin=margin, reduction='none')\n",
        "\n",
        "    def _init_enitity_emb(self):\n",
        "        entities_emb = nn.Embedding(num_embeddings=self.entity_count + 1,\n",
        "                                    embedding_dim=self.dim,\n",
        "                                    padding_idx=self.entity_count)\n",
        "        uniform_range = 6 / np.sqrt(self.dim)\n",
        "        entities_emb.weight.data.uniform_(-uniform_range, uniform_range)\n",
        "        return entities_emb\n",
        "\n",
        "    def _init_relation_emb(self):\n",
        "        relations_emb = nn.Embedding(num_embeddings=self.relation_count + 1,\n",
        "                                     embedding_dim=self.dim,\n",
        "                                     padding_idx=self.relation_count)\n",
        "        uniform_range = 6 / np.sqrt(self.dim)\n",
        "        relations_emb.weight.data.uniform_(-uniform_range, uniform_range)\n",
        "        # -1 to avoid nan for OOV vector\n",
        "        relations_emb.weight.data[:-1, :].div_(relations_emb.weight.data[:-1, :].norm(p=1, dim=1, keepdim=True))\n",
        "        return relations_emb\n",
        "\n",
        "    def forward(self, positive_triplets: torch.LongTensor, negative_triplets: torch.LongTensor):\n",
        "        \"\"\"Return model losses based on the input.\n",
        "        :param positive_triplets: triplets of positives in Bx3 shape (B - batch, 3 - head, relation and tail)\n",
        "        :param negative_triplets: triplets of negatives in Bx3 shape (B - batch, 3 - head, relation and tail)\n",
        "        :return: tuple of the model loss, positive triplets loss component, negative triples loss component\n",
        "        \"\"\"\n",
        "        # -1 to avoid nan for OOV vector\n",
        "        self.entities_emb.weight.data[:-1, :].div_(self.entities_emb.weight.data[:-1, :].norm(p=2, dim=1, keepdim=True))\n",
        "\n",
        "        assert positive_triplets.size()[1] == 3\n",
        "        positive_distances = self._distance(positive_triplets)\n",
        "\n",
        "        assert negative_triplets.size()[1] == 3\n",
        "        negative_distances = self._distance(negative_triplets)\n",
        "\n",
        "        return self.loss(positive_distances, negative_distances), positive_distances, negative_distances\n",
        "\n",
        "    def predict(self, triplets: torch.LongTensor):\n",
        "        \"\"\"Calculated dissimilarity score for given triplets.\n",
        "        :param triplets: triplets in Bx3 shape (B - batch, 3 - head, relation and tail)\n",
        "        :return: dissimilarity score for given triplets\n",
        "        \"\"\"\n",
        "        return self._distance(triplets)\n",
        "\n",
        "    def loss(self, positive_distances, negative_distances):\n",
        "        target = torch.tensor([-1], dtype=torch.long, device=self.device)\n",
        "        return self.criterion(positive_distances, negative_distances, target)\n",
        "\n",
        "    def _distance(self, triplets):\n",
        "        \"\"\"Triplets should have shape Bx3 where dim 3 are head id, relation id, tail id.\"\"\"\n",
        "        assert triplets.size()[1] == 3\n",
        "        heads = triplets[:, 0]\n",
        "        relations = triplets[:, 1]\n",
        "        tails = triplets[:, 2]\n",
        "        return (self.entities_emb(heads) + self.relations_emb(relations) - self.entities_emb(tails)).norm(p=self.norm,\n",
        "                                                                                                          dim=1)"
      ],
      "metadata": {
        "id": "95xdoTu7o_7m"
      },
      "execution_count": 15,
      "outputs": []
    },
    {
      "cell_type": "code",
      "source": [
        "# from tqdm import tqdm"
      ],
      "metadata": {
        "id": "tohfzm47oEk5"
      },
      "execution_count": 8,
      "outputs": []
    },
    {
      "cell_type": "code",
      "source": [
        "def test(model: torch.nn.Module, data_generator: torch_data.DataLoader, entities_count: int,\n",
        "         summary_writer: tensorboard.SummaryWriter, device: torch.device, epoch_id: int, metric_suffix: str,\n",
        "         ) -> METRICS:\n",
        "    examples_count = 0.0\n",
        "    hits_at_1 = 0.0\n",
        "    hits_at_3 = 0.0\n",
        "    hits_at_10 = 0.0\n",
        "    mrr = 0.0\n",
        "\n",
        "    entity_ids = torch.arange(end=entities_count, device=device).unsqueeze(0)\n",
        "    for head, relation, tail in data_generator:\n",
        "        current_batch_size = head.size()[0]\n",
        "\n",
        "        head, relation, tail = head.to(device), relation.to(device), tail.to(device)\n",
        "        all_entities = entity_ids.repeat(current_batch_size, 1)\n",
        "        heads = head.reshape(-1, 1).repeat(1, all_entities.size()[1])\n",
        "        relations = relation.reshape(-1, 1).repeat(1, all_entities.size()[1])\n",
        "        tails = tail.reshape(-1, 1).repeat(1, all_entities.size()[1])\n",
        "\n",
        "        # Check all possible tails\n",
        "        triplets = torch.stack((heads, relations, all_entities), dim=2).reshape(-1, 3)\n",
        "        tails_predictions = model.predict(triplets).reshape(current_batch_size, -1)\n",
        "        # Check all possible heads\n",
        "        triplets = torch.stack((all_entities, relations, tails), dim=2).reshape(-1, 3)\n",
        "        heads_predictions = model.predict(triplets).reshape(current_batch_size, -1)\n",
        "\n",
        "        # Concat predictions\n",
        "        predictions = torch.cat((tails_predictions, heads_predictions), dim=0)\n",
        "        ground_truth_entity_id = torch.cat((tail.reshape(-1, 1), head.reshape(-1, 1)))\n",
        "\n",
        "        hits_at_1 += hit_at_k(predictions, ground_truth_entity_id, device=device, k=1)\n",
        "        hits_at_3 += hit_at_k(predictions, ground_truth_entity_id, device=device, k=3)\n",
        "        hits_at_10 += hit_at_k(predictions, ground_truth_entity_id, device=device, k=10)\n",
        "        mrr += data_mrr(predictions, ground_truth_entity_id)\n",
        "\n",
        "        examples_count += predictions.size()[0]\n",
        "\n",
        "    hits_at_1_score = hits_at_1 / examples_count * 100\n",
        "    hits_at_3_score = hits_at_3 / examples_count * 100\n",
        "    hits_at_10_score = hits_at_10 / examples_count * 100\n",
        "    mrr_score = mrr / examples_count * 100\n",
        "    # summary_writer.add_scalar('Metrics/Hits_1/' + metric_suffix, hits_at_1_score, global_step=epoch_id)\n",
        "    # summary_writer.add_scalar('Metrics/Hits_3/' + metric_suffix, hits_at_3_score, global_step=epoch_id)\n",
        "    # summary_writer.add_scalar('Metrics/Hits_10/' + metric_suffix, hits_at_10_score, global_step=epoch_id)\n",
        "    # summary_writer.add_scalar('Metrics/MRR/' + metric_suffix, mrr_score, global_step=epoch_id)\n",
        "\n",
        "    return hits_at_1_score, hits_at_3_score, hits_at_10_score, mrr_score"
      ],
      "metadata": {
        "id": "m854XjRPltss"
      },
      "execution_count": 33,
      "outputs": []
    },
    {
      "cell_type": "code",
      "source": [
        "torch.random.manual_seed(seed)\n",
        "torch.backends.cudnn.deterministic = True\n",
        "torch.backends.cudnn.benchmark = False"
      ],
      "metadata": {
        "id": "mkRcZuJvluw_"
      },
      "execution_count": 17,
      "outputs": []
    },
    {
      "cell_type": "code",
      "source": [
        "path = dataset_path\n",
        "train_path = os.path.join(path, \"train.txt\")\n",
        "validation_path = os.path.join(path, \"valid.txt\")\n",
        "test_path = os.path.join(path, \"test.txt\")\n"
      ],
      "metadata": {
        "id": "YSCbel1FmhUw"
      },
      "execution_count": 18,
      "outputs": []
    },
    {
      "cell_type": "code",
      "source": [
        "entity2id, relation2id = create_mappings(train_path)\n",
        "\n",
        "batch_size = batch_size\n",
        "vector_length = vector_length\n",
        "margin = margin\n",
        "norm = norm\n",
        "learning_rate = lr\n",
        "epochs = epochs\n",
        "device = torch.device('cuda') if use_gpu else torch.device('cpu')"
      ],
      "metadata": {
        "id": "24SmPYo9mkTA"
      },
      "execution_count": 25,
      "outputs": []
    },
    {
      "cell_type": "code",
      "source": [
        "relation2id"
      ],
      "metadata": {
        "colab": {
          "base_uri": "https://localhost:8080/"
        },
        "id": "G7QxcSOPTA0p",
        "outputId": "77246e0e-f0ec-41a0-a59c-3cf2cd01fd9a"
      },
      "execution_count": 26,
      "outputs": [
        {
          "output_type": "execute_result",
          "data": {
            "text/plain": [
              "{'/american_football/football_team/current_roster./sports/sports_team_roster/position': 91,\n",
              " '/award/award_category/category_of': 191,\n",
              " '/award/award_category/disciplines_or_subjects': 162,\n",
              " '/award/award_category/nominees./award/award_nomination/nominated_for': 5,\n",
              " '/award/award_category/winners./award/award_honor/award_winner': 10,\n",
              " '/award/award_category/winners./award/award_honor/ceremony': 22,\n",
              " '/award/award_ceremony/awards_presented./award/award_honor/award_winner': 23,\n",
              " '/award/award_ceremony/awards_presented./award/award_honor/honored_for': 58,\n",
              " '/award/award_nominated_work/award_nominations./award/award_nomination/nominated_for': 76,\n",
              " '/award/award_nominee/award_nominations./award/award_nomination/award': 2,\n",
              " '/award/award_nominee/award_nominations./award/award_nomination/award_nominee': 0,\n",
              " '/award/award_nominee/award_nominations./award/award_nomination/nominated_for': 8,\n",
              " '/award/award_winner/awards_won./award/award_honor/award_winner': 6,\n",
              " '/award/award_winning_work/awards_won./award/award_honor/award': 19,\n",
              " '/award/award_winning_work/awards_won./award/award_honor/award_winner': 20,\n",
              " '/award/award_winning_work/awards_won./award/award_honor/honored_for': 102,\n",
              " '/award/hall_of_fame/inductees./award/hall_of_fame_induction/inductee': 187,\n",
              " '/award/ranked_item/appears_in_ranked_lists./award/ranking/list': 128,\n",
              " '/base/aareas/schema/administrative_area/administrative_area_type': 186,\n",
              " '/base/aareas/schema/administrative_area/administrative_parent': 90,\n",
              " '/base/aareas/schema/administrative_area/capital': 198,\n",
              " '/base/americancomedy/celebrity_impressionist/celebrities_impersonated': 212,\n",
              " '/base/biblioness/bibs_location/country': 85,\n",
              " '/base/biblioness/bibs_location/state': 134,\n",
              " '/base/culturalevent/event/entity_involved': 138,\n",
              " '/base/eating/practicer_of_diet/diet': 199,\n",
              " '/base/localfood/seasonal_month/produce_available./base/localfood/produce_availability/seasonal_months': 219,\n",
              " '/base/locations/continents/countries_within': 205,\n",
              " '/base/marchmadness/ncaa_basketball_tournament/seeds./base/marchmadness/ncaa_tournament_seed/team': 121,\n",
              " '/base/petbreeds/city_with_dogs/top_breeds./base/petbreeds/dog_city_relationship/dog_breed': 165,\n",
              " '/base/popstra/celebrity/breakup./base/popstra/breakup/participant': 189,\n",
              " '/base/popstra/celebrity/canoodled./base/popstra/canoodled/participant': 106,\n",
              " '/base/popstra/celebrity/dated./base/popstra/dated/participant': 45,\n",
              " '/base/popstra/celebrity/friendship./base/popstra/friendship/participant': 43,\n",
              " '/base/popstra/location/vacationers./base/popstra/vacation_choice/vacationer': 122,\n",
              " '/base/saturdaynightlive/snl_cast_member/seasons./base/saturdaynightlive/snl_season_tenure/cast_members': 231,\n",
              " '/base/schemastaging/organization_extra/phone_number./base/schemastaging/phone_sandbox/contact_category': 195,\n",
              " '/base/schemastaging/organization_extra/phone_number./base/schemastaging/phone_sandbox/service_language': 161,\n",
              " '/base/schemastaging/organization_extra/phone_number./base/schemastaging/phone_sandbox/service_location': 124,\n",
              " '/base/schemastaging/person_extra/net_worth./measurement_unit/dated_money_value/currency': 101,\n",
              " '/base/x2010fifaworldcupsouthafrica/world_cup_squad/current_world_cup_squad./base/x2010fifaworldcupsouthafrica/current_world_cup_squad/current_club': 149,\n",
              " '/baseball/baseball_team/team_stats./baseball/baseball_team_stats/season': 152,\n",
              " '/broadcast/content/artist': 226,\n",
              " '/business/business_operation/assets./measurement_unit/dated_money_value/currency': 173,\n",
              " '/business/business_operation/industry': 130,\n",
              " '/business/business_operation/operating_income./measurement_unit/dated_money_value/currency': 163,\n",
              " '/business/business_operation/revenue./measurement_unit/dated_money_value/currency': 160,\n",
              " '/business/job_title/people_with_this_title./business/employment_tenure/company': 73,\n",
              " '/celebrities/celebrity/celebrity_friends./celebrities/friendship/friend': 148,\n",
              " '/celebrities/celebrity/sexual_relationships./celebrities/romantic_relationship/celebrity': 151,\n",
              " '/common/topic/webpage./common/webpage/category': 17,\n",
              " '/dataworld/gardening_hint/split_to': 233,\n",
              " '/education/educational_degree/people_with_this_degree./education/education/institution': 34,\n",
              " '/education/educational_degree/people_with_this_degree./education/education/major_field_of_study': 98,\n",
              " '/education/educational_degree/people_with_this_degree./education/education/student': 143,\n",
              " '/education/educational_institution/campuses': 95,\n",
              " '/education/educational_institution/colors': 60,\n",
              " '/education/educational_institution/school_type': 74,\n",
              " '/education/educational_institution/students_graduates./education/education/major_field_of_study': 27,\n",
              " '/education/educational_institution/students_graduates./education/education/student': 26,\n",
              " '/education/educational_institution_campus/educational_institution': 96,\n",
              " '/education/field_of_study/students_majoring./education/education/major_field_of_study': 125,\n",
              " '/education/field_of_study/students_majoring./education/education/student': 144,\n",
              " '/education/university/domestic_tuition./measurement_unit/dated_money_value/currency': 100,\n",
              " '/education/university/fraternities_and_sororities': 203,\n",
              " '/education/university/international_tuition./measurement_unit/dated_money_value/currency': 213,\n",
              " '/education/university/local_tuition./measurement_unit/dated_money_value/currency': 120,\n",
              " '/film/actor/dubbing_performances./film/dubbing_performance/language': 217,\n",
              " '/film/actor/film./film/performance/film': 4,\n",
              " '/film/actor/film./film/performance/special_performance_type': 174,\n",
              " '/film/director/film': 59,\n",
              " '/film/film/cinematography': 126,\n",
              " '/film/film/costume_design_by': 164,\n",
              " '/film/film/country': 30,\n",
              " '/film/film/distributors./film/film_film_distributor_relationship/film_distribution_medium': 137,\n",
              " '/film/film/distributors./film/film_film_distributor_relationship/region': 185,\n",
              " '/film/film/dubbing_performances./film/dubbing_performance/actor': 215,\n",
              " '/film/film/edited_by': 177,\n",
              " '/film/film/estimated_budget./measurement_unit/dated_money_value/currency': 49,\n",
              " '/film/film/executive_produced_by': 83,\n",
              " '/film/film/featured_film_locations': 56,\n",
              " '/film/film/film_art_direction_by': 229,\n",
              " '/film/film/film_festivals': 142,\n",
              " '/film/film/film_format': 123,\n",
              " '/film/film/film_production_design_by': 184,\n",
              " '/film/film/genre': 7,\n",
              " '/film/film/language': 28,\n",
              " '/film/film/music': 54,\n",
              " '/film/film/other_crew./film/film_crew_gig/crewmember': 116,\n",
              " '/film/film/other_crew./film/film_crew_gig/film_crew_role': 11,\n",
              " '/film/film/personal_appearances./film/personal_film_appearance/person': 158,\n",
              " '/film/film/prequel': 175,\n",
              " '/film/film/produced_by': 47,\n",
              " '/film/film/production_companies': 42,\n",
              " '/film/film/release_date_s./film/film_regional_release_date/film_regional_debut_venue': 150,\n",
              " '/film/film/release_date_s./film/film_regional_release_date/film_release_distribution_medium': 44,\n",
              " '/film/film/release_date_s./film/film_regional_release_date/film_release_region': 1,\n",
              " '/film/film/runtime./film/film_cut/film_release_region': 169,\n",
              " '/film/film/story_by': 114,\n",
              " '/film/film/written_by': 65,\n",
              " '/film/film_distributor/films_distributed./film/film_film_distributor_relationship/film': 31,\n",
              " '/film/film_set_designer/film_sets_designed': 216,\n",
              " '/film/film_subject/films': 87,\n",
              " '/film/person_or_entity_appearing_in_film/films./film/personal_film_appearance/type_of_appearance': 236,\n",
              " '/film/special_film_performance_type/film_performance_type./film/performance/film': 234,\n",
              " '/food/food/nutrients./food/nutrition_fact/nutrient': 57,\n",
              " '/government/government_office_category/officeholders./government/government_position_held/jurisdiction_of_office': 67,\n",
              " '/government/governmental_body/members./government/government_position_held/legislative_sessions': 228,\n",
              " '/government/legislative_session/members./government/government_position_held/district_represented': 53,\n",
              " '/government/legislative_session/members./government/government_position_held/legislative_sessions': 62,\n",
              " '/government/political_party/politicians_in_this_party./government/political_party_tenure/politician': 220,\n",
              " '/government/politician/government_positions_held./government/government_position_held/basic_title': 214,\n",
              " '/government/politician/government_positions_held./government/government_position_held/jurisdiction_of_office': 221,\n",
              " '/government/politician/government_positions_held./government/government_position_held/legislative_sessions': 159,\n",
              " '/ice_hockey/hockey_team/current_roster./sports/sports_team_roster/position': 211,\n",
              " '/influence/influence_node/influenced_by': 40,\n",
              " '/influence/influence_node/peers./influence/peer_relationship/peers': 180,\n",
              " '/language/human_language/countries_spoken_in': 127,\n",
              " '/location/administrative_division/country': 115,\n",
              " '/location/administrative_division/first_level_division_of': 197,\n",
              " '/location/capital_of_administrative_division/capital_of./location/administrative_division_capital_relationship/administrative_division': 136,\n",
              " '/location/country/capital': 194,\n",
              " '/location/country/form_of_government': 135,\n",
              " '/location/country/official_language': 154,\n",
              " '/location/country/second_level_divisions': 103,\n",
              " '/location/hud_county_place/county': 132,\n",
              " '/location/hud_county_place/place': 104,\n",
              " '/location/hud_foreclosure_area/estimated_number_of_mortgages./measurement_unit/dated_integer/source': 64,\n",
              " '/location/location/adjoin_s./location/adjoining_relationship/adjoins': 38,\n",
              " '/location/location/contains': 12,\n",
              " '/location/location/partially_contains': 201,\n",
              " '/location/location/time_zones': 51,\n",
              " '/location/statistical_region/gdp_nominal./measurement_unit/dated_money_value/currency': 155,\n",
              " '/location/statistical_region/gdp_nominal_per_capita./measurement_unit/dated_money_value/currency': 168,\n",
              " '/location/statistical_region/gdp_real./measurement_unit/adjusted_money_value/adjustment_currency': 183,\n",
              " '/location/statistical_region/gni_per_capita_in_ppp_dollars./measurement_unit/dated_money_value/currency': 190,\n",
              " '/location/statistical_region/places_exported_to./location/imports_and_exports/exported_to': 179,\n",
              " '/location/statistical_region/religions./location/religion_percentage/religion': 88,\n",
              " '/location/statistical_region/rent50_2./measurement_unit/dated_money_value/currency': 118,\n",
              " '/location/us_county/county_seat': 172,\n",
              " '/media_common/netflix_genre/titles': 24,\n",
              " '/medicine/disease/notable_people_with_this_condition': 210,\n",
              " '/medicine/disease/risk_factors': 181,\n",
              " '/medicine/symptom/symptom_of': 188,\n",
              " '/military/military_combatant/military_conflicts./military/military_combatant_group/combatants': 71,\n",
              " '/military/military_conflict/combatants./military/military_combatant_group/combatants': 109,\n",
              " '/music/artist/contribution./music/recording_contribution/performance_role': 157,\n",
              " '/music/artist/origin': 92,\n",
              " '/music/artist/track_contributions./music/track_contribution/role': 41,\n",
              " '/music/genre/artists': 9,\n",
              " '/music/genre/parent_genre': 80,\n",
              " '/music/group_member/membership./music/group_membership/group': 156,\n",
              " '/music/group_member/membership./music/group_membership/role': 70,\n",
              " '/music/instrument/family': 232,\n",
              " '/music/instrument/instrumentalists': 39,\n",
              " '/music/performance_role/guest_performances./music/recording_contribution/performance_role': 97,\n",
              " '/music/performance_role/regular_performances./music/group_membership/group': 46,\n",
              " '/music/performance_role/regular_performances./music/group_membership/role': 25,\n",
              " '/music/performance_role/track_performances./music/track_contribution/role': 14,\n",
              " '/music/record_label/artist': 35,\n",
              " '/olympics/olympic_games/medals_awarded./olympics/olympic_medal_honor/medal': 227,\n",
              " '/olympics/olympic_games/participating_countries': 99,\n",
              " '/olympics/olympic_games/sports': 82,\n",
              " '/olympics/olympic_participating_country/athletes./olympics/olympic_athlete_affiliation/olympics': 68,\n",
              " '/olympics/olympic_participating_country/medals_won./olympics/olympic_medal_honor/medal': 145,\n",
              " '/olympics/olympic_participating_country/medals_won./olympics/olympic_medal_honor/olympics': 50,\n",
              " '/olympics/olympic_sport/athletes./olympics/olympic_athlete_affiliation/country': 36,\n",
              " '/olympics/olympic_sport/athletes./olympics/olympic_athlete_affiliation/olympics': 117,\n",
              " '/organization/endowed_organization/endowment./measurement_unit/dated_money_value/currency': 105,\n",
              " '/organization/non_profit_organization/registered_with./organization/non_profit_registration/registering_agency': 206,\n",
              " '/organization/organization/child./organization/organization_relationship/child': 167,\n",
              " '/organization/organization/headquarters./location/mailing_address/citytown': 61,\n",
              " '/organization/organization/headquarters./location/mailing_address/country': 171,\n",
              " '/organization/organization/headquarters./location/mailing_address/state_province_region': 75,\n",
              " '/organization/organization/place_founded': 222,\n",
              " '/organization/organization_founder/organizations_founded': 200,\n",
              " '/organization/organization_member/member_of./organization/organization_membership/organization': 63,\n",
              " '/organization/role/leaders./organization/leadership/organization': 69,\n",
              " '/people/cause_of_death/people': 72,\n",
              " '/people/deceased_person/place_of_burial': 196,\n",
              " '/people/deceased_person/place_of_death': 77,\n",
              " '/people/ethnicity/geographic_distribution': 208,\n",
              " '/people/ethnicity/languages_spoken': 166,\n",
              " '/people/ethnicity/people': 37,\n",
              " '/people/marriage_union_type/unions_of_this_type./people/marriage/location_of_ceremony': 111,\n",
              " '/people/person/employment_history./business/employment_tenure/company': 131,\n",
              " '/people/person/gender': 16,\n",
              " '/people/person/languages': 66,\n",
              " '/people/person/nationality': 13,\n",
              " '/people/person/place_of_birth': 29,\n",
              " '/people/person/places_lived./people/place_lived/location': 15,\n",
              " '/people/person/profession': 3,\n",
              " '/people/person/religion': 52,\n",
              " '/people/person/sibling_s./people/sibling_relationship/sibling': 202,\n",
              " '/people/person/spouse_s./people/marriage/location_of_ceremony': 147,\n",
              " '/people/person/spouse_s./people/marriage/spouse': 108,\n",
              " '/people/person/spouse_s./people/marriage/type_of_union': 21,\n",
              " '/people/profession/specialization_of': 225,\n",
              " '/soccer/football_player/current_team./sports/sports_team_roster/team': 93,\n",
              " '/soccer/football_team/current_roster./soccer/football_roster_position/position': 32,\n",
              " '/soccer/football_team/current_roster./sports/sports_team_roster/position': 33,\n",
              " '/sports/pro_athlete/teams./sports/sports_team_roster/team': 81,\n",
              " '/sports/professional_sports_team/draft_picks./sports/sports_league_draft_pick/draft': 107,\n",
              " '/sports/professional_sports_team/draft_picks./sports/sports_league_draft_pick/school': 79,\n",
              " '/sports/sport/pro_athletes./sports/pro_sports_played/athlete': 204,\n",
              " '/sports/sports_league/teams./sports/sports_league_participation/team': 182,\n",
              " '/sports/sports_league_draft/picks./sports/sports_league_draft_pick/school': 140,\n",
              " '/sports/sports_position/players./american_football/football_historical_roster_position/position_s': 224,\n",
              " '/sports/sports_position/players./sports/sports_team_roster/position': 207,\n",
              " '/sports/sports_position/players./sports/sports_team_roster/team': 18,\n",
              " '/sports/sports_team/colors': 78,\n",
              " '/sports/sports_team/roster./american_football/football_historical_roster_position/position_s': 84,\n",
              " '/sports/sports_team/roster./american_football/football_roster_position/position': 86,\n",
              " '/sports/sports_team/roster./baseball/baseball_roster_position/position': 170,\n",
              " '/sports/sports_team/roster./basketball/basketball_roster_position/position': 178,\n",
              " '/sports/sports_team/sport': 110,\n",
              " '/sports/sports_team_location/teams': 129,\n",
              " '/time/event/instance_of_recurring_event': 218,\n",
              " '/time/event/locations': 119,\n",
              " '/travel/travel_destination/climate./travel/travel_destination_monthly_climate/month': 94,\n",
              " '/travel/travel_destination/how_to_get_here./travel/transportation/mode_of_transportation': 192,\n",
              " '/tv/non_character_role/tv_regular_personal_appearances./tv/tv_regular_personal_appearance/person': 235,\n",
              " '/tv/tv_network/programs./tv/tv_network_duration/program': 133,\n",
              " '/tv/tv_personality/tv_regular_appearances./tv/tv_regular_personal_appearance/program': 223,\n",
              " '/tv/tv_producer/programs_produced./tv/tv_producer_term/producer_type': 153,\n",
              " '/tv/tv_producer/programs_produced./tv/tv_producer_term/program': 112,\n",
              " '/tv/tv_program/country_of_origin': 141,\n",
              " '/tv/tv_program/genre': 55,\n",
              " '/tv/tv_program/languages': 146,\n",
              " '/tv/tv_program/program_creator': 193,\n",
              " '/tv/tv_program/regular_cast./tv/regular_tv_appearance/actor': 48,\n",
              " '/tv/tv_program/tv_producer./tv/tv_producer_term/producer_type': 209,\n",
              " '/tv/tv_writer/tv_programs./tv/tv_program_writer_relationship/tv_program': 139,\n",
              " '/user/alexander/philosophy/philosopher/interests': 230,\n",
              " '/user/jg/default_domain/olympic_games/sports': 89,\n",
              " '/user/ktrueman/default_domain/international_organization/member_states': 176,\n",
              " '/user/tsegaran/random/taxonomy_subject/entry./user/tsegaran/random/taxonomy_entry/taxonomy': 113}"
            ]
          },
          "metadata": {},
          "execution_count": 26
        }
      ]
    },
    {
      "cell_type": "code",
      "source": [
        "train_set = FB15KDataset(train_path, entity2id, relation2id)\n",
        "train_generator = torch_data.DataLoader(train_set, batch_size=batch_size)\n",
        "validation_set = FB15KDataset(validation_path, entity2id, relation2id)\n",
        "validation_generator = torch_data.DataLoader(validation_set, batch_size=validation_batch_size)\n",
        "test_set = FB15KDataset(test_path, entity2id, relation2id)\n",
        "test_generator = torch_data.DataLoader(test_set, batch_size=validation_batch_size)"
      ],
      "metadata": {
        "id": "hPEYZ9Ram1B3"
      },
      "execution_count": 27,
      "outputs": []
    },
    {
      "cell_type": "code",
      "source": [
        "train_set[0]"
      ],
      "metadata": {
        "colab": {
          "base_uri": "https://localhost:8080/"
        },
        "id": "qZZGfmBmTWnG",
        "outputId": "7d453029-2d81-4f91-cc79-69c8e5817620"
      },
      "execution_count": 28,
      "outputs": [
        {
          "output_type": "execute_result",
          "data": {
            "text/plain": [
              "(2848, 135, 1468)"
            ]
          },
          "metadata": {},
          "execution_count": 28
        }
      ]
    },
    {
      "cell_type": "code",
      "source": [
        "model = TransE(entity_count=len(entity2id), relation_count=len(relation2id), dim=vector_length,\n",
        "                                    margin=margin,\n",
        "                                    device=device, norm=norm)  # type: torch.nn.Module\n",
        "model = model.to(device)\n",
        "optimizer = optim.SGD(model.parameters(), lr=learning_rate)"
      ],
      "metadata": {
        "id": "pH048pJVm8Fg"
      },
      "execution_count": 29,
      "outputs": []
    },
    {
      "cell_type": "code",
      "source": [
        "summary_writer = tensorboard.SummaryWriter(log_dir=tensorboard_log_dir)\n",
        "start_epoch_id = 1\n",
        "step = 0\n",
        "best_score = 0.0\n",
        "\n",
        "if checkpoint_path:\n",
        "  start_epoch_id, step, best_score = storage.load_checkpoint(checkpoint_path, model, optimizer)\n",
        "\n",
        "print(model)"
      ],
      "metadata": {
        "colab": {
          "base_uri": "https://localhost:8080/"
        },
        "id": "L1OfUVaCnC5f",
        "outputId": "4f3b4792-fd25-4e45-a164-0ed7b21bf4ff"
      },
      "execution_count": 30,
      "outputs": [
        {
          "output_type": "stream",
          "name": "stdout",
          "text": [
            "TransE(\n",
            "  (entities_emb): Embedding(14506, 50, padding_idx=14505)\n",
            "  (relations_emb): Embedding(238, 50, padding_idx=237)\n",
            "  (criterion): MarginRankingLoss()\n",
            ")\n"
          ]
        }
      ]
    },
    {
      "cell_type": "code",
      "source": [
        "# Training loop\n",
        "losses = []\n",
        "test_scores = []\n",
        "for epoch_id in range(start_epoch_id, epochs + 1):\n",
        "    print(\"Starting epoch: \", epoch_id)\n",
        "    loss_impacting_samples_count = 0\n",
        "    samples_count = 0\n",
        "    model.train()\n",
        "\n",
        "    # pbar = tqdm(train_generator)\n",
        "    total_loss = 0\n",
        "    # local_step = 0\n",
        "    for local_heads, local_relations, local_tails in train_generator:\n",
        "        # local_heads, local_relations, local_tails = batch\n",
        "        local_heads, local_relations, local_tails = (local_heads.to(device), local_relations.to(device),\n",
        "                                                      local_tails.to(device))\n",
        "\n",
        "        positive_triples = torch.stack((local_heads, local_relations, local_tails), dim=1)\n",
        "\n",
        "        # Preparing negatives.\n",
        "        # Generate binary tensor to replace either head or tail. 1 means replace head, 0 means replace tail.\n",
        "        head_or_tail = torch.randint(high=2, size=local_heads.size(), device=device)\n",
        "        random_entities = torch.randint(high=len(entity2id), size=local_heads.size(), device=device)\n",
        "        broken_heads = torch.where(head_or_tail == 1, random_entities, local_heads)\n",
        "        broken_tails = torch.where(head_or_tail == 0, random_entities, local_tails)\n",
        "        negative_triples = torch.stack((broken_heads, local_relations, broken_tails), dim=1)\n",
        "\n",
        "        optimizer.zero_grad()\n",
        "\n",
        "        loss, pd, nd = model(positive_triples, negative_triples)\n",
        "        loss.mean().backward()\n",
        "\n",
        "        # summary_writer.add_scalar('Loss/train', loss.mean().data.cpu().numpy(), global_step=step)\n",
        "        # summary_writer.add_scalar('Distance/positive', pd.sum().data.cpu().numpy(), global_step=step)\n",
        "        # summary_writer.add_scalar('Distance/negative', nd.sum().data.cpu().numpy(), global_step=step)\n",
        "\n",
        "        loss = loss.data.cpu()\n",
        "        loss_impacting_samples_count += loss.nonzero().size()[0]\n",
        "        samples_count += loss.size()[0]\n",
        "\n",
        "        optimizer.step()\n",
        "        step += 1\n",
        "        total_loss += loss.mean()\n",
        "        # pbar.set_description('Avg Loss: {:>5,}'.format(total_loss / (local_step + 1)))\n",
        "\n",
        "    losses.append(total_loss / len(train_generator))\n",
        "    print('Avg Loss: {:>5,}'.format(total_loss / len(train_generator)))\n",
        "\n",
        "    # summary_writer.add_scalar('Metrics/loss_impacting_samples', loss_impacting_samples_count / samples_count * 100,\n",
        "    #                           global_step=epoch_id)\n",
        "\n",
        "    if epoch_id % validation_freq == 0:\n",
        "        model.eval()\n",
        "        _, _, hits_at_10, _ = test(model=model, data_generator=validation_generator,\n",
        "                                    entities_count=len(entity2id),\n",
        "                                    device=device, summary_writer=summary_writer,\n",
        "                                    epoch_id=epoch_id, metric_suffix=\"val\")\n",
        "        score = hits_at_10\n",
        "        test_scores.append(score)\n",
        "        print('Score: {:>5,}'.format(score))\n",
        "        if score > best_score:\n",
        "            best_score = score\n",
        "            storage.save_checkpoint(model, optimizer, epoch_id, step, best_score)"
      ],
      "metadata": {
        "colab": {
          "base_uri": "https://localhost:8080/",
          "height": 1000
        },
        "id": "zt2NOWminMhY",
        "outputId": "51342b30-d06f-490f-dcd0-a69d2ab0a63b"
      },
      "execution_count": 34,
      "outputs": [
        {
          "output_type": "stream",
          "name": "stdout",
          "text": [
            "Starting epoch:  1\n",
            "Avg Loss: 0.837875247001648\n",
            "Starting epoch:  2\n",
            "Avg Loss: 0.8258439302444458\n",
            "Starting epoch:  3\n",
            "Avg Loss: 0.8149133324623108\n",
            "Starting epoch:  4\n",
            "Avg Loss: 0.8016965985298157\n",
            "Starting epoch:  5\n",
            "Avg Loss: 0.7891423106193542\n",
            "Starting epoch:  6\n",
            "Avg Loss: 0.7815384864807129\n",
            "Starting epoch:  7\n",
            "Avg Loss: 0.7680583000183105\n",
            "Starting epoch:  8\n",
            "Avg Loss: 0.7570762038230896\n",
            "Starting epoch:  9\n",
            "Avg Loss: 0.7487457990646362\n",
            "Starting epoch:  10\n",
            "Avg Loss: 0.7361899018287659\n",
            "Score: 8.323353293413174\n",
            "Starting epoch:  11\n",
            "Avg Loss: 0.7266756296157837\n",
            "Starting epoch:  12\n",
            "Avg Loss: 0.7195487022399902\n",
            "Starting epoch:  13\n",
            "Avg Loss: 0.7115136981010437\n",
            "Starting epoch:  14\n",
            "Avg Loss: 0.6999431848526001\n",
            "Starting epoch:  15\n",
            "Avg Loss: 0.6929430365562439\n",
            "Starting epoch:  16\n",
            "Avg Loss: 0.6835457682609558\n",
            "Starting epoch:  17\n",
            "Avg Loss: 0.6732947826385498\n",
            "Starting epoch:  18\n",
            "Avg Loss: 0.6667133569717407\n",
            "Starting epoch:  19\n",
            "Avg Loss: 0.6559496521949768\n",
            "Starting epoch:  20\n",
            "Avg Loss: 0.6524038910865784\n",
            "Score: 10.065583119475335\n",
            "Starting epoch:  21\n",
            "Avg Loss: 0.6411142349243164\n",
            "Starting epoch:  22\n",
            "Avg Loss: 0.6362891793251038\n",
            "Starting epoch:  23\n",
            "Avg Loss: 0.6271971464157104\n",
            "Starting epoch:  24\n",
            "Avg Loss: 0.6201922297477722\n",
            "Starting epoch:  25\n",
            "Avg Loss: 0.6126385927200317\n",
            "Starting epoch:  26\n",
            "Avg Loss: 0.605468213558197\n",
            "Starting epoch:  27\n",
            "Avg Loss: 0.5984686017036438\n",
            "Starting epoch:  28\n",
            "Avg Loss: 0.5917474627494812\n",
            "Starting epoch:  29\n",
            "Avg Loss: 0.5864230394363403\n",
            "Starting epoch:  30\n",
            "Avg Loss: 0.5796154141426086\n",
            "Score: 11.334473909324208\n",
            "Starting epoch:  31\n",
            "Avg Loss: 0.5729981660842896\n",
            "Starting epoch:  32\n",
            "Avg Loss: 0.5661928057670593\n",
            "Starting epoch:  33\n",
            "Avg Loss: 0.5580015778541565\n",
            "Starting epoch:  34\n",
            "Avg Loss: 0.5527465343475342\n",
            "Starting epoch:  35\n",
            "Avg Loss: 0.5480992197990417\n",
            "Starting epoch:  36\n",
            "Avg Loss: 0.5412406325340271\n",
            "Starting epoch:  37\n",
            "Avg Loss: 0.535871684551239\n",
            "Starting epoch:  38\n",
            "Avg Loss: 0.5276390314102173\n",
            "Starting epoch:  39\n",
            "Avg Loss: 0.522149384021759\n",
            "Starting epoch:  40\n",
            "Avg Loss: 0.5174722671508789\n",
            "Score: 12.209865982321071\n",
            "Starting epoch:  41\n",
            "Avg Loss: 0.5113890767097473\n",
            "Starting epoch:  42\n",
            "Avg Loss: 0.5056383013725281\n",
            "Starting epoch:  43\n",
            "Avg Loss: 0.5030090808868408\n",
            "Starting epoch:  44\n",
            "Avg Loss: 0.49392950534820557\n",
            "Starting epoch:  45\n",
            "Avg Loss: 0.4901926815509796\n",
            "Starting epoch:  46\n",
            "Avg Loss: 0.4852270781993866\n",
            "Starting epoch:  47\n",
            "Avg Loss: 0.4798135459423065\n",
            "Starting epoch:  48\n",
            "Avg Loss: 0.47646841406822205\n",
            "Starting epoch:  49\n",
            "Avg Loss: 0.4666800796985626\n",
            "Starting epoch:  50\n",
            "Avg Loss: 0.463483989238739\n"
          ]
        },
        {
          "output_type": "error",
          "ename": "KeyboardInterrupt",
          "evalue": "ignored",
          "traceback": [
            "\u001b[0;31m---------------------------------------------------------------------------\u001b[0m",
            "\u001b[0;31mKeyboardInterrupt\u001b[0m                         Traceback (most recent call last)",
            "\u001b[0;32m<ipython-input-34-30e32672428a>\u001b[0m in \u001b[0;36m<module>\u001b[0;34m()\u001b[0m\n\u001b[1;32m     55\u001b[0m                                     \u001b[0mentities_count\u001b[0m\u001b[0;34m=\u001b[0m\u001b[0mlen\u001b[0m\u001b[0;34m(\u001b[0m\u001b[0mentity2id\u001b[0m\u001b[0;34m)\u001b[0m\u001b[0;34m,\u001b[0m\u001b[0;34m\u001b[0m\u001b[0;34m\u001b[0m\u001b[0m\n\u001b[1;32m     56\u001b[0m                                     \u001b[0mdevice\u001b[0m\u001b[0;34m=\u001b[0m\u001b[0mdevice\u001b[0m\u001b[0;34m,\u001b[0m \u001b[0msummary_writer\u001b[0m\u001b[0;34m=\u001b[0m\u001b[0msummary_writer\u001b[0m\u001b[0;34m,\u001b[0m\u001b[0;34m\u001b[0m\u001b[0;34m\u001b[0m\u001b[0m\n\u001b[0;32m---> 57\u001b[0;31m                                     epoch_id=epoch_id, metric_suffix=\"val\")\n\u001b[0m\u001b[1;32m     58\u001b[0m         \u001b[0mscore\u001b[0m \u001b[0;34m=\u001b[0m \u001b[0mhits_at_10\u001b[0m\u001b[0;34m\u001b[0m\u001b[0;34m\u001b[0m\u001b[0m\n\u001b[1;32m     59\u001b[0m         \u001b[0mtest_scores\u001b[0m\u001b[0;34m.\u001b[0m\u001b[0mappend\u001b[0m\u001b[0;34m(\u001b[0m\u001b[0mscore\u001b[0m\u001b[0;34m)\u001b[0m\u001b[0;34m\u001b[0m\u001b[0;34m\u001b[0m\u001b[0m\n",
            "\u001b[0;32m<ipython-input-33-1d02b075b7e4>\u001b[0m in \u001b[0;36mtest\u001b[0;34m(model, data_generator, entities_count, summary_writer, device, epoch_id, metric_suffix)\u001b[0m\n\u001b[1;32m     23\u001b[0m         \u001b[0;31m# Check all possible heads\u001b[0m\u001b[0;34m\u001b[0m\u001b[0;34m\u001b[0m\u001b[0;34m\u001b[0m\u001b[0m\n\u001b[1;32m     24\u001b[0m         \u001b[0mtriplets\u001b[0m \u001b[0;34m=\u001b[0m \u001b[0mtorch\u001b[0m\u001b[0;34m.\u001b[0m\u001b[0mstack\u001b[0m\u001b[0;34m(\u001b[0m\u001b[0;34m(\u001b[0m\u001b[0mall_entities\u001b[0m\u001b[0;34m,\u001b[0m \u001b[0mrelations\u001b[0m\u001b[0;34m,\u001b[0m \u001b[0mtails\u001b[0m\u001b[0;34m)\u001b[0m\u001b[0;34m,\u001b[0m \u001b[0mdim\u001b[0m\u001b[0;34m=\u001b[0m\u001b[0;36m2\u001b[0m\u001b[0;34m)\u001b[0m\u001b[0;34m.\u001b[0m\u001b[0mreshape\u001b[0m\u001b[0;34m(\u001b[0m\u001b[0;34m-\u001b[0m\u001b[0;36m1\u001b[0m\u001b[0;34m,\u001b[0m \u001b[0;36m3\u001b[0m\u001b[0;34m)\u001b[0m\u001b[0;34m\u001b[0m\u001b[0;34m\u001b[0m\u001b[0m\n\u001b[0;32m---> 25\u001b[0;31m         \u001b[0mheads_predictions\u001b[0m \u001b[0;34m=\u001b[0m \u001b[0mmodel\u001b[0m\u001b[0;34m.\u001b[0m\u001b[0mpredict\u001b[0m\u001b[0;34m(\u001b[0m\u001b[0mtriplets\u001b[0m\u001b[0;34m)\u001b[0m\u001b[0;34m.\u001b[0m\u001b[0mreshape\u001b[0m\u001b[0;34m(\u001b[0m\u001b[0mcurrent_batch_size\u001b[0m\u001b[0;34m,\u001b[0m \u001b[0;34m-\u001b[0m\u001b[0;36m1\u001b[0m\u001b[0;34m)\u001b[0m\u001b[0;34m\u001b[0m\u001b[0;34m\u001b[0m\u001b[0m\n\u001b[0m\u001b[1;32m     26\u001b[0m \u001b[0;34m\u001b[0m\u001b[0m\n\u001b[1;32m     27\u001b[0m         \u001b[0;31m# Concat predictions\u001b[0m\u001b[0;34m\u001b[0m\u001b[0;34m\u001b[0m\u001b[0;34m\u001b[0m\u001b[0m\n",
            "\u001b[0;32m<ipython-input-15-9b37258ec4e1>\u001b[0m in \u001b[0;36mpredict\u001b[0;34m(self, triplets)\u001b[0m\n\u001b[1;32m     52\u001b[0m         \u001b[0;34m:\u001b[0m\u001b[0;32mreturn\u001b[0m\u001b[0;34m:\u001b[0m \u001b[0mdissimilarity\u001b[0m \u001b[0mscore\u001b[0m \u001b[0;32mfor\u001b[0m \u001b[0mgiven\u001b[0m \u001b[0mtriplets\u001b[0m\u001b[0;34m\u001b[0m\u001b[0;34m\u001b[0m\u001b[0m\n\u001b[1;32m     53\u001b[0m         \"\"\"\n\u001b[0;32m---> 54\u001b[0;31m         \u001b[0;32mreturn\u001b[0m \u001b[0mself\u001b[0m\u001b[0;34m.\u001b[0m\u001b[0m_distance\u001b[0m\u001b[0;34m(\u001b[0m\u001b[0mtriplets\u001b[0m\u001b[0;34m)\u001b[0m\u001b[0;34m\u001b[0m\u001b[0;34m\u001b[0m\u001b[0m\n\u001b[0m\u001b[1;32m     55\u001b[0m \u001b[0;34m\u001b[0m\u001b[0m\n\u001b[1;32m     56\u001b[0m     \u001b[0;32mdef\u001b[0m \u001b[0mloss\u001b[0m\u001b[0;34m(\u001b[0m\u001b[0mself\u001b[0m\u001b[0;34m,\u001b[0m \u001b[0mpositive_distances\u001b[0m\u001b[0;34m,\u001b[0m \u001b[0mnegative_distances\u001b[0m\u001b[0;34m)\u001b[0m\u001b[0;34m:\u001b[0m\u001b[0;34m\u001b[0m\u001b[0;34m\u001b[0m\u001b[0m\n",
            "\u001b[0;32m<ipython-input-15-9b37258ec4e1>\u001b[0m in \u001b[0;36m_distance\u001b[0;34m(self, triplets)\u001b[0m\n\u001b[1;32m     65\u001b[0m         \u001b[0mtails\u001b[0m \u001b[0;34m=\u001b[0m \u001b[0mtriplets\u001b[0m\u001b[0;34m[\u001b[0m\u001b[0;34m:\u001b[0m\u001b[0;34m,\u001b[0m \u001b[0;36m2\u001b[0m\u001b[0;34m]\u001b[0m\u001b[0;34m\u001b[0m\u001b[0;34m\u001b[0m\u001b[0m\n\u001b[1;32m     66\u001b[0m         return (self.entities_emb(heads) + self.relations_emb(relations) - self.entities_emb(tails)).norm(p=self.norm,\n\u001b[0;32m---> 67\u001b[0;31m                                                                                                           dim=1)\n\u001b[0m",
            "\u001b[0;32m/usr/local/lib/python3.7/dist-packages/torch/_tensor.py\u001b[0m in \u001b[0;36mnorm\u001b[0;34m(self, p, dim, keepdim, dtype)\u001b[0m\n\u001b[1;32m    440\u001b[0m         \u001b[0;32mif\u001b[0m \u001b[0mhas_torch_function_unary\u001b[0m\u001b[0;34m(\u001b[0m\u001b[0mself\u001b[0m\u001b[0;34m)\u001b[0m\u001b[0;34m:\u001b[0m\u001b[0;34m\u001b[0m\u001b[0;34m\u001b[0m\u001b[0m\n\u001b[1;32m    441\u001b[0m             \u001b[0;32mreturn\u001b[0m \u001b[0mhandle_torch_function\u001b[0m\u001b[0;34m(\u001b[0m\u001b[0mTensor\u001b[0m\u001b[0;34m.\u001b[0m\u001b[0mnorm\u001b[0m\u001b[0;34m,\u001b[0m \u001b[0;34m(\u001b[0m\u001b[0mself\u001b[0m\u001b[0;34m,\u001b[0m\u001b[0;34m)\u001b[0m\u001b[0;34m,\u001b[0m \u001b[0mself\u001b[0m\u001b[0;34m,\u001b[0m \u001b[0mp\u001b[0m\u001b[0;34m=\u001b[0m\u001b[0mp\u001b[0m\u001b[0;34m,\u001b[0m \u001b[0mdim\u001b[0m\u001b[0;34m=\u001b[0m\u001b[0mdim\u001b[0m\u001b[0;34m,\u001b[0m \u001b[0mkeepdim\u001b[0m\u001b[0;34m=\u001b[0m\u001b[0mkeepdim\u001b[0m\u001b[0;34m,\u001b[0m \u001b[0mdtype\u001b[0m\u001b[0;34m=\u001b[0m\u001b[0mdtype\u001b[0m\u001b[0;34m)\u001b[0m\u001b[0;34m\u001b[0m\u001b[0;34m\u001b[0m\u001b[0m\n\u001b[0;32m--> 442\u001b[0;31m         \u001b[0;32mreturn\u001b[0m \u001b[0mtorch\u001b[0m\u001b[0;34m.\u001b[0m\u001b[0mnorm\u001b[0m\u001b[0;34m(\u001b[0m\u001b[0mself\u001b[0m\u001b[0;34m,\u001b[0m \u001b[0mp\u001b[0m\u001b[0;34m,\u001b[0m \u001b[0mdim\u001b[0m\u001b[0;34m,\u001b[0m \u001b[0mkeepdim\u001b[0m\u001b[0;34m,\u001b[0m \u001b[0mdtype\u001b[0m\u001b[0;34m=\u001b[0m\u001b[0mdtype\u001b[0m\u001b[0;34m)\u001b[0m\u001b[0;34m\u001b[0m\u001b[0;34m\u001b[0m\u001b[0m\n\u001b[0m\u001b[1;32m    443\u001b[0m \u001b[0;34m\u001b[0m\u001b[0m\n\u001b[1;32m    444\u001b[0m     \u001b[0;32mdef\u001b[0m \u001b[0mlu\u001b[0m\u001b[0;34m(\u001b[0m\u001b[0mself\u001b[0m\u001b[0;34m,\u001b[0m \u001b[0mpivot\u001b[0m\u001b[0;34m=\u001b[0m\u001b[0;32mTrue\u001b[0m\u001b[0;34m,\u001b[0m \u001b[0mget_infos\u001b[0m\u001b[0;34m=\u001b[0m\u001b[0;32mFalse\u001b[0m\u001b[0;34m)\u001b[0m\u001b[0;34m:\u001b[0m\u001b[0;34m\u001b[0m\u001b[0;34m\u001b[0m\u001b[0m\n",
            "\u001b[0;32m/usr/local/lib/python3.7/dist-packages/torch/functional.py\u001b[0m in \u001b[0;36mnorm\u001b[0;34m(input, p, dim, keepdim, out, dtype)\u001b[0m\n\u001b[1;32m   1463\u001b[0m         \u001b[0;32mif\u001b[0m \u001b[0mout\u001b[0m \u001b[0;32mis\u001b[0m \u001b[0;32mNone\u001b[0m\u001b[0;34m:\u001b[0m\u001b[0;34m\u001b[0m\u001b[0;34m\u001b[0m\u001b[0m\n\u001b[1;32m   1464\u001b[0m             \u001b[0;32mif\u001b[0m \u001b[0mdtype\u001b[0m \u001b[0;32mis\u001b[0m \u001b[0;32mNone\u001b[0m\u001b[0;34m:\u001b[0m\u001b[0;34m\u001b[0m\u001b[0;34m\u001b[0m\u001b[0m\n\u001b[0;32m-> 1465\u001b[0;31m                 \u001b[0;32mreturn\u001b[0m \u001b[0m_VF\u001b[0m\u001b[0;34m.\u001b[0m\u001b[0mnorm\u001b[0m\u001b[0;34m(\u001b[0m\u001b[0minput\u001b[0m\u001b[0;34m,\u001b[0m \u001b[0mp\u001b[0m\u001b[0;34m,\u001b[0m \u001b[0m_dim\u001b[0m\u001b[0;34m,\u001b[0m \u001b[0mkeepdim\u001b[0m\u001b[0;34m=\u001b[0m\u001b[0mkeepdim\u001b[0m\u001b[0;34m)\u001b[0m  \u001b[0;31m# type: ignore[attr-defined]\u001b[0m\u001b[0;34m\u001b[0m\u001b[0;34m\u001b[0m\u001b[0m\n\u001b[0m\u001b[1;32m   1466\u001b[0m             \u001b[0;32melse\u001b[0m\u001b[0;34m:\u001b[0m\u001b[0;34m\u001b[0m\u001b[0;34m\u001b[0m\u001b[0m\n\u001b[1;32m   1467\u001b[0m                 \u001b[0;32mreturn\u001b[0m \u001b[0m_VF\u001b[0m\u001b[0;34m.\u001b[0m\u001b[0mnorm\u001b[0m\u001b[0;34m(\u001b[0m\u001b[0minput\u001b[0m\u001b[0;34m,\u001b[0m \u001b[0mp\u001b[0m\u001b[0;34m,\u001b[0m \u001b[0m_dim\u001b[0m\u001b[0;34m,\u001b[0m \u001b[0mkeepdim\u001b[0m\u001b[0;34m=\u001b[0m\u001b[0mkeepdim\u001b[0m\u001b[0;34m,\u001b[0m \u001b[0mdtype\u001b[0m\u001b[0;34m=\u001b[0m\u001b[0mdtype\u001b[0m\u001b[0;34m)\u001b[0m  \u001b[0;31m# type: ignore[attr-defined]\u001b[0m\u001b[0;34m\u001b[0m\u001b[0;34m\u001b[0m\u001b[0m\n",
            "\u001b[0;31mKeyboardInterrupt\u001b[0m: "
          ]
        }
      ]
    },
    {
      "cell_type": "code",
      "source": [
        "import seaborn as sns\n",
        "import matplotlib.pyplot as plt\n",
        "\n",
        "% matplotlib inline"
      ],
      "metadata": {
        "id": "BXNGo5SIF64h"
      },
      "execution_count": 35,
      "outputs": []
    },
    {
      "cell_type": "code",
      "source": [
        "plt.plot(losses)"
      ],
      "metadata": {
        "colab": {
          "base_uri": "https://localhost:8080/",
          "height": 283
        },
        "id": "NqapXHs0GB0y",
        "outputId": "2796c6d7-1169-4dde-d3e4-7ff50ca7f3ab"
      },
      "execution_count": 36,
      "outputs": [
        {
          "output_type": "execute_result",
          "data": {
            "text/plain": [
              "[<matplotlib.lines.Line2D at 0x7fd0eaaef450>]"
            ]
          },
          "metadata": {},
          "execution_count": 36
        },
        {
          "output_type": "display_data",
          "data": {
            "image/png": "[encoded data removed]",
            "text/plain": [
              "<Figure size 432x288 with 1 Axes>"
            ]
          },
          "metadata": {
            "needs_background": "light"
          }
        }
      ]
    },
    {
      "cell_type": "code",
      "source": [
        "plt.plot(test_scores)"
      ],
      "metadata": {
        "colab": {
          "base_uri": "https://localhost:8080/",
          "height": 282
        },
        "id": "Uy6dQC5Lt-Fn",
        "outputId": "bb23cd09-6469-488a-e692-8a624559b825"
      },
      "execution_count": 37,
      "outputs": [
        {
          "output_type": "execute_result",
          "data": {
            "text/plain": [
              "[<matplotlib.lines.Line2D at 0x7fd0ea59c210>]"
            ]
          },
          "metadata": {},
          "execution_count": 37
        },
        {
          "output_type": "display_data",
          "data": {
            "image/png": "[encoded data removed]",
            "text/plain": [
              "<Figure size 432x288 with 1 Axes>"
            ]
          },
          "metadata": {
            "needs_background": "light"
          }
        }
      ]
    },
    {
      "cell_type": "code",
      "source": [
        "# Testing the best checkpoint on test dataset\n",
        "storage.load_checkpoint(\"checkpoint.tar\", model, optimizer)\n",
        "best_model = model.to(device)\n",
        "best_model.eval()\n",
        "scores = test(model=best_model, data_generator=test_generator, entities_count=len(entity2id), device=device,\n",
        "              summary_writer=summary_writer, epoch_id=1, metric_suffix=\"test\")\n",
        "print(\"Test scores: \", scores)"
      ],
      "metadata": {
        "id": "Z0rOGvxonfeh",
        "colab": {
          "base_uri": "https://localhost:8080/"
        },
        "outputId": "c8b3b604-f5eb-4d25-f24b-8fa40fb1c8e3"
      },
      "execution_count": 38,
      "outputs": [
        {
          "output_type": "stream",
          "name": "stdout",
          "text": [
            "Test scores:  (2.2451871396462426, 7.561321215674778, 12.38639695104075, 5.9224384796534375)\n"
          ]
        }
      ]
    }
  ]
}